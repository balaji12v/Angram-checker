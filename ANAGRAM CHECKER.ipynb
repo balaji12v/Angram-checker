{
 "cells": [
  {
   "cell_type": "markdown",
   "metadata": {},
   "source": [
    "<h2 style=\"color:BLUE\"> ANAGRAM CHECKER\n"
   ]
  },
  {
   "cell_type": "markdown",
   "metadata": {},
   "source": [
    "<h3 style=\"color:Brown\"> ANAGRAM::A word, phrase, or name formed by rearranging the letters of another.\n",
    "    "
   ]
  },
  {
   "cell_type": "markdown",
   "metadata": {},
   "source": [
    "<h3 style=\"color:GREEN\">EXAMPLES::EARTH-HEART,NIGHT-THING,Hamlet = Amleth.\n"
   ]
  },
  {
   "cell_type": "code",
   "execution_count": 17,
   "metadata": {},
   "outputs": [
    {
     "name": "stdout",
     "output_type": "stream",
     "text": [
      "word1:EARTH\n",
      "word2:HEART\n",
      "The words is anangram\n",
      "THANK YOU\n"
     ]
    }
   ],
   "source": [
    "A=input(\"word1:\")\n",
    "B=input(\"word2:\")\n",
    "    \n",
    "\n",
    "if len(A)!=len(B):\n",
    "    print(\"The words is not anagram\")\n",
    "    print(\"Try with another words\")\n",
    "    \n",
    "else:    \n",
    "    if sorted(A.upper())==sorted(B.upper()):\n",
    "        print(\"The words is anangram\")\n",
    "        \n",
    "\n",
    "    else:\n",
    "        print(\"The words is not anagram\")\n",
    "        print(\"Try with another words\")\n",
    "print(\"THANK YOU\")"
   ]
  },
  {
   "cell_type": "code",
   "execution_count": null,
   "metadata": {},
   "outputs": [],
   "source": []
  }
 ],
 "metadata": {
  "kernelspec": {
   "display_name": "Python 3",
   "language": "python",
   "name": "python3"
  },
  "language_info": {
   "codemirror_mode": {
    "name": "ipython",
    "version": 3
   },
   "file_extension": ".py",
   "mimetype": "text/x-python",
   "name": "python",
   "nbconvert_exporter": "python",
   "pygments_lexer": "ipython3",
   "version": "3.7.1"
  }
 },
 "nbformat": 4,
 "nbformat_minor": 2
}
